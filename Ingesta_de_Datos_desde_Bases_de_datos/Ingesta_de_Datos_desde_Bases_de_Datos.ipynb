{
  "cells": [
    {
      "cell_type": "code",
      "execution_count": 2,
      "id": "f20c1e06-b094-4d42-800e-2203e21a2076",
      "metadata": {
        "id": "f20c1e06-b094-4d42-800e-2203e21a2076"
      },
      "outputs": [],
      "source": [
        "import pandas as pd       # \"llamamos\" a la libreria pandas y la llamo 'pd'\n",
        "\n",
        "\n",
        "\n",
        "import sqlite3            # llamamos a la librería sqlite3 en Python para poder trabajar con archivos de base de datos SQLite\n",
        "                          # sqlite3 significa que esta librería trabaja con la versión 3 del motor SQLite, que es la versión más moderna"
      ]
    },
    {
      "cell_type": "code",
      "execution_count": 3,
      "id": "cfaf2e92-bebb-4e61-97bb-e6de6da0d034",
      "metadata": {
        "id": "cfaf2e92-bebb-4e61-97bb-e6de6da0d034"
      },
      "outputs": [],
      "source": [
        "# QUERY que no la  ejecutamos todavía, solo  guardamos la consulta en una variable llamada 'sql'.\n",
        "\n",
        "\n",
        "sql = \"SELECT name from sqlite_master where type = 'table'\""
      ]
    },
    {
      "cell_type": "markdown",
      "source": [
        "**sqlite_master** es una tabla interna que tiene toda la información sobre el contenido de la base de datos.\n",
        "\n",
        "\n",
        "¿Qué guarda esa tabla?\n",
        "\n",
        "Guarda una fila por cada cosa que exista en tu base de datos, como por ejemplo:\n",
        "\n",
        "    Tablas\n",
        "\n",
        "    Vistas\n",
        "\n",
        "    Índices\n",
        "\n",
        "    Triggers"
      ],
      "metadata": {
        "id": "18ehTmE8mwII"
      },
      "id": "18ehTmE8mwII"
    },
    {
      "cell_type": "code",
      "execution_count": 4,
      "id": "e3dcbdfe-07dc-45c0-be89-b6d592e2033d",
      "metadata": {
        "id": "e3dcbdfe-07dc-45c0-be89-b6d592e2033d"
      },
      "outputs": [],
      "source": [
        "#Conexion: nos conectamos a la based e datos.\n",
        "# \" le decimos a python: abri el archivo '.sqlite' como una base de datos para que pueda trabajar con el\"\n",
        "# Guardamos esa conexión en una variable llamada con.\n",
        "\n",
        "con = sqlite3.connect(\"/content/nba_salary.sqlite\")"
      ]
    },
    {
      "cell_type": "code",
      "execution_count": 5,
      "id": "7c9663f9-e524-4969-b7d0-c74192304d0a",
      "metadata": {
        "id": "7c9663f9-e524-4969-b7d0-c74192304d0a"
      },
      "outputs": [],
      "source": [
        "#Creamos el df: lee el resultado de una consulta SQL y lo guardamos en un dataframe\n",
        "\n",
        "df = pd.read_sql_query(sql,con)"
      ]
    },
    {
      "cell_type": "code",
      "execution_count": 6,
      "id": "486b03e7-ccc9-4a36-91a3-0ce51880166f",
      "metadata": {
        "colab": {
          "base_uri": "https://localhost:8080/"
        },
        "id": "486b03e7-ccc9-4a36-91a3-0ce51880166f",
        "outputId": "41807aa0-2948-474b-b9ca-875c6915a70e"
      },
      "outputs": [
        {
          "output_type": "stream",
          "name": "stdout",
          "text": [
            "                    name\n",
            "0  NBA_season1718_salary\n",
            "1          Seasons_Stats\n"
          ]
        }
      ],
      "source": [
        "# mostramos el resultado\n",
        "\n",
        "print(df)"
      ]
    },
    {
      "cell_type": "markdown",
      "source": [
        "La base de datos tiene 2 tablas:\n",
        "\n",
        "\n",
        "    NBA_season1718_salary → probablemente con sueldos de jugadores en esa temporada.\n",
        "\n",
        "    Seasons_Stats → tal vez estadísticas por temporada (puntos, rebotes, etc.)."
      ],
      "metadata": {
        "id": "BUy7824ymLWc"
      },
      "id": "BUy7824ymLWc"
    },
    {
      "cell_type": "code",
      "execution_count": null,
      "id": "b46bcfe7-e51b-4a7f-baa5-dfe4f9a2766d",
      "metadata": {
        "id": "b46bcfe7-e51b-4a7f-baa5-dfe4f9a2766d",
        "outputId": "a6f66f77-c9f0-48d2-f3ed-161ac09417c9"
      },
      "outputs": [
        {
          "name": "stdout",
          "output_type": "stream",
          "text": [
            "        X1          Player   Tm  season17_18\n",
            "0      1.0   Stephen Curry  GSW   34682550.0\n",
            "1      2.0    LeBron James  CLE   33285709.0\n",
            "2      3.0    Paul Millsap  DEN   31269231.0\n",
            "3      4.0  Gordon Hayward  BOS   29727900.0\n",
            "4      5.0   Blake Griffin  DET   29512900.0\n",
            "..     ...             ...  ...          ...\n",
            "568  569.0      Quinn Cook  NOP      25000.0\n",
            "569  570.0   Chris Johnson  HOU      25000.0\n",
            "570  571.0      Beno Udrih  DET      25000.0\n",
            "571  572.0   Joel Bolomboy  MIL      22248.0\n",
            "572  573.0    Jarell Eddie  CHI      17224.0\n",
            "\n",
            "[573 rows x 4 columns]\n"
          ]
        }
      ],
      "source": [
        "# Es una consulta SQL que le dice a la base: “Traé todas las filas y todas las columnas de la tabla NBA_season1718_salary”.\n",
        "\n",
        "df_nba = pd.read_sql_query(\"SELECT * from NBA_season1718_salary\",con)\n",
        "\n",
        "# otra forma\n",
        "# query = \"SELECT * FROM NBA_season1718_salary\"\n",
        "# f_nba = pd.read_sql_query(query, con)\n",
        "\n",
        "print(df_nba)"
      ]
    },
    {
      "cell_type": "code",
      "execution_count": 12,
      "id": "1fe5f8e5-80ec-44c7-86d2-1507611cf671",
      "metadata": {
        "id": "1fe5f8e5-80ec-44c7-86d2-1507611cf671"
      },
      "outputs": [],
      "source": [
        "#SQLAlchemy!\n",
        "import sqlalchemy as db"
      ]
    },
    {
      "cell_type": "markdown",
      "source": [
        "**SQLAlchemy**\n",
        "\n",
        "Es una librería multi-motor → funciona con varios tipos de bases de datos.\n",
        "\n",
        "✅ Soporta: SQLite, PostgreSQL, MySQL, Oracle, SQL Server, y más.\n",
        "\n",
        "- Podés cambiar de motor sin cambiar casi nada de tu código (solo la URL de conexión).\n",
        "\n",
        "- Tiene modo SQL clásico y modo **ORM**  (Object Relational Mapper)."
      ],
      "metadata": {
        "id": "HnP4_IYUpFSS"
      },
      "id": "HnP4_IYUpFSS"
    },
    {
      "cell_type": "code",
      "execution_count": 17,
      "id": "d651c2ed-e59b-41ea-95a3-0ba36db0c51a",
      "metadata": {
        "id": "d651c2ed-e59b-41ea-95a3-0ba36db0c51a"
      },
      "outputs": [],
      "source": [
        "#Conexion\n",
        "engine = db.create_engine('sqlite:////content/nba_salary.sqlite')\n",
        "# create_engine(...) crea un motor de conexión,o sea, es como un puente entre Python y tu base de datos,no se conecta todavía, solo prepara la conexión.\n",
        "# sqlite:////ruta/completa/archivo.sqlite → ruta absoluta\n",
        "\n",
        "\n",
        "connection = engine.connect()\n",
        "\n",
        "# ahora si te conectás de verdad a la base, es como tener una \"llave\" para entrar y hacer consultas."
      ]
    },
    {
      "cell_type": "code",
      "execution_count": 18,
      "id": "a241edb1-1fce-44a7-831a-256c6bf336cc",
      "metadata": {
        "colab": {
          "base_uri": "https://localhost:8080/"
        },
        "id": "a241edb1-1fce-44a7-831a-256c6bf336cc",
        "outputId": "8e08586f-3f27-4340-af55-b3acbf9bc301"
      },
      "outputs": [
        {
          "output_type": "stream",
          "name": "stdout",
          "text": [
            "            X1    Year             Player  Pos   Age   Tm     G   GS      MP  \\\n",
            "0          0.0  1950.0    Curly Armstrong  G-F  31.0  FTW  63.0  NaN     NaN   \n",
            "1          1.0  1950.0       Cliff Barker   SG  29.0  INO  49.0  NaN     NaN   \n",
            "2          2.0  1950.0      Leo Barnhorst   SF  25.0  CHS  67.0  NaN     NaN   \n",
            "3          3.0  1950.0         Ed Bartels    F  24.0  TOT  15.0  NaN     NaN   \n",
            "4          4.0  1950.0         Ed Bartels    F  24.0  DNN  13.0  NaN     NaN   \n",
            "...        ...     ...                ...  ...   ...  ...   ...  ...     ...   \n",
            "24686  24686.0  2017.0        Cody Zeller   PF  24.0  CHO  62.0  NaN  1725.0   \n",
            "24687  24687.0  2017.0       Tyler Zeller    C  27.0  BOS  51.0  NaN   525.0   \n",
            "24688  24688.0  2017.0  Stephen Zimmerman    C  20.0  ORL  19.0  0.0   108.0   \n",
            "24689  24689.0  2017.0        Paul Zipser   SF  22.0  CHI  44.0  NaN   843.0   \n",
            "24690  24690.0  2017.0        Ivica Zubac    C  19.0  LAL  38.0  NaN   609.0   \n",
            "\n",
            "        PER  ...    FT%  ORB  DRB    TRB    AST  STL  BLK  TOV     PF    PTS  \n",
            "0       NaN  ...  0.705  NaN  NaN    NaN  176.0  NaN  NaN  NaN  217.0  458.0  \n",
            "1       NaN  ...  0.708  NaN  NaN    NaN  109.0  NaN  NaN  NaN   99.0  279.0  \n",
            "2       NaN  ...  0.698  NaN  NaN    NaN  140.0  NaN  NaN  NaN  192.0  438.0  \n",
            "3       NaN  ...  0.559  NaN  NaN    NaN   20.0  NaN  NaN  NaN   29.0   63.0  \n",
            "4       NaN  ...  0.548  NaN  NaN    NaN   20.0  NaN  NaN  NaN   27.0   59.0  \n",
            "...     ...  ...    ...  ...  ...    ...    ...  ...  ...  ...    ...    ...  \n",
            "24686  16.7  ...  0.679  NaN  NaN  405.0   99.0  NaN  NaN  NaN  189.0  639.0  \n",
            "24687  13.0  ...  0.564  NaN  NaN  124.0   42.0  NaN  NaN  NaN   61.0  178.0  \n",
            "24688   7.3  ...  0.600  NaN  NaN   35.0    4.0  NaN  NaN  NaN   17.0   23.0  \n",
            "24689   6.9  ...  0.775  NaN  NaN  125.0   36.0  NaN  NaN  NaN   78.0  240.0  \n",
            "24690  17.0  ...  0.653  NaN  NaN  159.0   30.0  NaN  NaN  NaN   66.0  284.0  \n",
            "\n",
            "[24691 rows x 53 columns]\n"
          ]
        }
      ],
      "source": [
        "import pandas as pd\n",
        "df_nba_sqlalchemy = pd.read_sql_query(\"SELECT * from Seasons_Stats\",connection)\n",
        "print(df_nba_sqlalchemy)"
      ]
    },
    {
      "cell_type": "code",
      "execution_count": 19,
      "id": "50db8666-e3d3-411a-853f-f8648d4f4062",
      "metadata": {
        "id": "50db8666-e3d3-411a-853f-f8648d4f4062"
      },
      "outputs": [],
      "source": [
        "#Consultas!\n",
        "df_Curly = pd.read_sql_query(\"SELECT * from Seasons_Stats where Player = 'Curly Armstrong'\",connection)"
      ]
    },
    {
      "cell_type": "code",
      "execution_count": 22,
      "id": "32d97663-607d-42e1-b054-b8ee274c206b",
      "metadata": {
        "colab": {
          "base_uri": "https://localhost:8080/",
          "height": 141
        },
        "id": "32d97663-607d-42e1-b054-b8ee274c206b",
        "outputId": "ab95cd71-0c27-4c03-de5c-38cee44afa80"
      },
      "outputs": [
        {
          "output_type": "execute_result",
          "data": {
            "text/plain": [
              "      X1    Year           Player  Pos   Age   Tm     G    GS    MP   PER  \\\n",
              "0    0.0  1950.0  Curly Armstrong  G-F  31.0  FTW  63.0  None  None  None   \n",
              "1  314.0  1951.0  Curly Armstrong  G-F  32.0  FTW  38.0  None  None  None   \n",
              "\n",
              "   ...    FT%   ORB   DRB   TRB    AST   STL   BLK   TOV     PF    PTS  \n",
              "0  ...  0.705  None  None   NaN  176.0  None  None  None  217.0  458.0  \n",
              "1  ...  0.644  None  None  89.0   77.0  None  None  None   97.0  202.0  \n",
              "\n",
              "[2 rows x 53 columns]"
            ],
            "text/html": [
              "\n",
              "  <div id=\"df-fcbb80f1-a08c-4b71-904a-63305f1728ab\" class=\"colab-df-container\">\n",
              "    <div>\n",
              "<style scoped>\n",
              "    .dataframe tbody tr th:only-of-type {\n",
              "        vertical-align: middle;\n",
              "    }\n",
              "\n",
              "    .dataframe tbody tr th {\n",
              "        vertical-align: top;\n",
              "    }\n",
              "\n",
              "    .dataframe thead th {\n",
              "        text-align: right;\n",
              "    }\n",
              "</style>\n",
              "<table border=\"1\" class=\"dataframe\">\n",
              "  <thead>\n",
              "    <tr style=\"text-align: right;\">\n",
              "      <th></th>\n",
              "      <th>X1</th>\n",
              "      <th>Year</th>\n",
              "      <th>Player</th>\n",
              "      <th>Pos</th>\n",
              "      <th>Age</th>\n",
              "      <th>Tm</th>\n",
              "      <th>G</th>\n",
              "      <th>GS</th>\n",
              "      <th>MP</th>\n",
              "      <th>PER</th>\n",
              "      <th>...</th>\n",
              "      <th>FT%</th>\n",
              "      <th>ORB</th>\n",
              "      <th>DRB</th>\n",
              "      <th>TRB</th>\n",
              "      <th>AST</th>\n",
              "      <th>STL</th>\n",
              "      <th>BLK</th>\n",
              "      <th>TOV</th>\n",
              "      <th>PF</th>\n",
              "      <th>PTS</th>\n",
              "    </tr>\n",
              "  </thead>\n",
              "  <tbody>\n",
              "    <tr>\n",
              "      <th>0</th>\n",
              "      <td>0.0</td>\n",
              "      <td>1950.0</td>\n",
              "      <td>Curly Armstrong</td>\n",
              "      <td>G-F</td>\n",
              "      <td>31.0</td>\n",
              "      <td>FTW</td>\n",
              "      <td>63.0</td>\n",
              "      <td>None</td>\n",
              "      <td>None</td>\n",
              "      <td>None</td>\n",
              "      <td>...</td>\n",
              "      <td>0.705</td>\n",
              "      <td>None</td>\n",
              "      <td>None</td>\n",
              "      <td>NaN</td>\n",
              "      <td>176.0</td>\n",
              "      <td>None</td>\n",
              "      <td>None</td>\n",
              "      <td>None</td>\n",
              "      <td>217.0</td>\n",
              "      <td>458.0</td>\n",
              "    </tr>\n",
              "    <tr>\n",
              "      <th>1</th>\n",
              "      <td>314.0</td>\n",
              "      <td>1951.0</td>\n",
              "      <td>Curly Armstrong</td>\n",
              "      <td>G-F</td>\n",
              "      <td>32.0</td>\n",
              "      <td>FTW</td>\n",
              "      <td>38.0</td>\n",
              "      <td>None</td>\n",
              "      <td>None</td>\n",
              "      <td>None</td>\n",
              "      <td>...</td>\n",
              "      <td>0.644</td>\n",
              "      <td>None</td>\n",
              "      <td>None</td>\n",
              "      <td>89.0</td>\n",
              "      <td>77.0</td>\n",
              "      <td>None</td>\n",
              "      <td>None</td>\n",
              "      <td>None</td>\n",
              "      <td>97.0</td>\n",
              "      <td>202.0</td>\n",
              "    </tr>\n",
              "  </tbody>\n",
              "</table>\n",
              "<p>2 rows × 53 columns</p>\n",
              "</div>\n",
              "    <div class=\"colab-df-buttons\">\n",
              "\n",
              "  <div class=\"colab-df-container\">\n",
              "    <button class=\"colab-df-convert\" onclick=\"convertToInteractive('df-fcbb80f1-a08c-4b71-904a-63305f1728ab')\"\n",
              "            title=\"Convert this dataframe to an interactive table.\"\n",
              "            style=\"display:none;\">\n",
              "\n",
              "  <svg xmlns=\"http://www.w3.org/2000/svg\" height=\"24px\" viewBox=\"0 -960 960 960\">\n",
              "    <path d=\"M120-120v-720h720v720H120Zm60-500h600v-160H180v160Zm220 220h160v-160H400v160Zm0 220h160v-160H400v160ZM180-400h160v-160H180v160Zm440 0h160v-160H620v160ZM180-180h160v-160H180v160Zm440 0h160v-160H620v160Z\"/>\n",
              "  </svg>\n",
              "    </button>\n",
              "\n",
              "  <style>\n",
              "    .colab-df-container {\n",
              "      display:flex;\n",
              "      gap: 12px;\n",
              "    }\n",
              "\n",
              "    .colab-df-convert {\n",
              "      background-color: #E8F0FE;\n",
              "      border: none;\n",
              "      border-radius: 50%;\n",
              "      cursor: pointer;\n",
              "      display: none;\n",
              "      fill: #1967D2;\n",
              "      height: 32px;\n",
              "      padding: 0 0 0 0;\n",
              "      width: 32px;\n",
              "    }\n",
              "\n",
              "    .colab-df-convert:hover {\n",
              "      background-color: #E2EBFA;\n",
              "      box-shadow: 0px 1px 2px rgba(60, 64, 67, 0.3), 0px 1px 3px 1px rgba(60, 64, 67, 0.15);\n",
              "      fill: #174EA6;\n",
              "    }\n",
              "\n",
              "    .colab-df-buttons div {\n",
              "      margin-bottom: 4px;\n",
              "    }\n",
              "\n",
              "    [theme=dark] .colab-df-convert {\n",
              "      background-color: #3B4455;\n",
              "      fill: #D2E3FC;\n",
              "    }\n",
              "\n",
              "    [theme=dark] .colab-df-convert:hover {\n",
              "      background-color: #434B5C;\n",
              "      box-shadow: 0px 1px 3px 1px rgba(0, 0, 0, 0.15);\n",
              "      filter: drop-shadow(0px 1px 2px rgba(0, 0, 0, 0.3));\n",
              "      fill: #FFFFFF;\n",
              "    }\n",
              "  </style>\n",
              "\n",
              "    <script>\n",
              "      const buttonEl =\n",
              "        document.querySelector('#df-fcbb80f1-a08c-4b71-904a-63305f1728ab button.colab-df-convert');\n",
              "      buttonEl.style.display =\n",
              "        google.colab.kernel.accessAllowed ? 'block' : 'none';\n",
              "\n",
              "      async function convertToInteractive(key) {\n",
              "        const element = document.querySelector('#df-fcbb80f1-a08c-4b71-904a-63305f1728ab');\n",
              "        const dataTable =\n",
              "          await google.colab.kernel.invokeFunction('convertToInteractive',\n",
              "                                                    [key], {});\n",
              "        if (!dataTable) return;\n",
              "\n",
              "        const docLinkHtml = 'Like what you see? Visit the ' +\n",
              "          '<a target=\"_blank\" href=https://colab.research.google.com/notebooks/data_table.ipynb>data table notebook</a>'\n",
              "          + ' to learn more about interactive tables.';\n",
              "        element.innerHTML = '';\n",
              "        dataTable['output_type'] = 'display_data';\n",
              "        await google.colab.output.renderOutput(dataTable, element);\n",
              "        const docLink = document.createElement('div');\n",
              "        docLink.innerHTML = docLinkHtml;\n",
              "        element.appendChild(docLink);\n",
              "      }\n",
              "    </script>\n",
              "  </div>\n",
              "\n",
              "\n",
              "<div id=\"df-6d1a78c4-9071-447a-a550-84d5ee7a7fb7\">\n",
              "  <button class=\"colab-df-quickchart\" onclick=\"quickchart('df-6d1a78c4-9071-447a-a550-84d5ee7a7fb7')\"\n",
              "            title=\"Suggest charts\"\n",
              "            style=\"display:none;\">\n",
              "\n",
              "<svg xmlns=\"http://www.w3.org/2000/svg\" height=\"24px\"viewBox=\"0 0 24 24\"\n",
              "     width=\"24px\">\n",
              "    <g>\n",
              "        <path d=\"M19 3H5c-1.1 0-2 .9-2 2v14c0 1.1.9 2 2 2h14c1.1 0 2-.9 2-2V5c0-1.1-.9-2-2-2zM9 17H7v-7h2v7zm4 0h-2V7h2v10zm4 0h-2v-4h2v4z\"/>\n",
              "    </g>\n",
              "</svg>\n",
              "  </button>\n",
              "\n",
              "<style>\n",
              "  .colab-df-quickchart {\n",
              "      --bg-color: #E8F0FE;\n",
              "      --fill-color: #1967D2;\n",
              "      --hover-bg-color: #E2EBFA;\n",
              "      --hover-fill-color: #174EA6;\n",
              "      --disabled-fill-color: #AAA;\n",
              "      --disabled-bg-color: #DDD;\n",
              "  }\n",
              "\n",
              "  [theme=dark] .colab-df-quickchart {\n",
              "      --bg-color: #3B4455;\n",
              "      --fill-color: #D2E3FC;\n",
              "      --hover-bg-color: #434B5C;\n",
              "      --hover-fill-color: #FFFFFF;\n",
              "      --disabled-bg-color: #3B4455;\n",
              "      --disabled-fill-color: #666;\n",
              "  }\n",
              "\n",
              "  .colab-df-quickchart {\n",
              "    background-color: var(--bg-color);\n",
              "    border: none;\n",
              "    border-radius: 50%;\n",
              "    cursor: pointer;\n",
              "    display: none;\n",
              "    fill: var(--fill-color);\n",
              "    height: 32px;\n",
              "    padding: 0;\n",
              "    width: 32px;\n",
              "  }\n",
              "\n",
              "  .colab-df-quickchart:hover {\n",
              "    background-color: var(--hover-bg-color);\n",
              "    box-shadow: 0 1px 2px rgba(60, 64, 67, 0.3), 0 1px 3px 1px rgba(60, 64, 67, 0.15);\n",
              "    fill: var(--button-hover-fill-color);\n",
              "  }\n",
              "\n",
              "  .colab-df-quickchart-complete:disabled,\n",
              "  .colab-df-quickchart-complete:disabled:hover {\n",
              "    background-color: var(--disabled-bg-color);\n",
              "    fill: var(--disabled-fill-color);\n",
              "    box-shadow: none;\n",
              "  }\n",
              "\n",
              "  .colab-df-spinner {\n",
              "    border: 2px solid var(--fill-color);\n",
              "    border-color: transparent;\n",
              "    border-bottom-color: var(--fill-color);\n",
              "    animation:\n",
              "      spin 1s steps(1) infinite;\n",
              "  }\n",
              "\n",
              "  @keyframes spin {\n",
              "    0% {\n",
              "      border-color: transparent;\n",
              "      border-bottom-color: var(--fill-color);\n",
              "      border-left-color: var(--fill-color);\n",
              "    }\n",
              "    20% {\n",
              "      border-color: transparent;\n",
              "      border-left-color: var(--fill-color);\n",
              "      border-top-color: var(--fill-color);\n",
              "    }\n",
              "    30% {\n",
              "      border-color: transparent;\n",
              "      border-left-color: var(--fill-color);\n",
              "      border-top-color: var(--fill-color);\n",
              "      border-right-color: var(--fill-color);\n",
              "    }\n",
              "    40% {\n",
              "      border-color: transparent;\n",
              "      border-right-color: var(--fill-color);\n",
              "      border-top-color: var(--fill-color);\n",
              "    }\n",
              "    60% {\n",
              "      border-color: transparent;\n",
              "      border-right-color: var(--fill-color);\n",
              "    }\n",
              "    80% {\n",
              "      border-color: transparent;\n",
              "      border-right-color: var(--fill-color);\n",
              "      border-bottom-color: var(--fill-color);\n",
              "    }\n",
              "    90% {\n",
              "      border-color: transparent;\n",
              "      border-bottom-color: var(--fill-color);\n",
              "    }\n",
              "  }\n",
              "</style>\n",
              "\n",
              "  <script>\n",
              "    async function quickchart(key) {\n",
              "      const quickchartButtonEl =\n",
              "        document.querySelector('#' + key + ' button');\n",
              "      quickchartButtonEl.disabled = true;  // To prevent multiple clicks.\n",
              "      quickchartButtonEl.classList.add('colab-df-spinner');\n",
              "      try {\n",
              "        const charts = await google.colab.kernel.invokeFunction(\n",
              "            'suggestCharts', [key], {});\n",
              "      } catch (error) {\n",
              "        console.error('Error during call to suggestCharts:', error);\n",
              "      }\n",
              "      quickchartButtonEl.classList.remove('colab-df-spinner');\n",
              "      quickchartButtonEl.classList.add('colab-df-quickchart-complete');\n",
              "    }\n",
              "    (() => {\n",
              "      let quickchartButtonEl =\n",
              "        document.querySelector('#df-6d1a78c4-9071-447a-a550-84d5ee7a7fb7 button');\n",
              "      quickchartButtonEl.style.display =\n",
              "        google.colab.kernel.accessAllowed ? 'block' : 'none';\n",
              "    })();\n",
              "  </script>\n",
              "</div>\n",
              "\n",
              "  <div id=\"id_eeaaafff-65c8-4829-9b21-a3d1633dcead\">\n",
              "    <style>\n",
              "      .colab-df-generate {\n",
              "        background-color: #E8F0FE;\n",
              "        border: none;\n",
              "        border-radius: 50%;\n",
              "        cursor: pointer;\n",
              "        display: none;\n",
              "        fill: #1967D2;\n",
              "        height: 32px;\n",
              "        padding: 0 0 0 0;\n",
              "        width: 32px;\n",
              "      }\n",
              "\n",
              "      .colab-df-generate:hover {\n",
              "        background-color: #E2EBFA;\n",
              "        box-shadow: 0px 1px 2px rgba(60, 64, 67, 0.3), 0px 1px 3px 1px rgba(60, 64, 67, 0.15);\n",
              "        fill: #174EA6;\n",
              "      }\n",
              "\n",
              "      [theme=dark] .colab-df-generate {\n",
              "        background-color: #3B4455;\n",
              "        fill: #D2E3FC;\n",
              "      }\n",
              "\n",
              "      [theme=dark] .colab-df-generate:hover {\n",
              "        background-color: #434B5C;\n",
              "        box-shadow: 0px 1px 3px 1px rgba(0, 0, 0, 0.15);\n",
              "        filter: drop-shadow(0px 1px 2px rgba(0, 0, 0, 0.3));\n",
              "        fill: #FFFFFF;\n",
              "      }\n",
              "    </style>\n",
              "    <button class=\"colab-df-generate\" onclick=\"generateWithVariable('df_Curly')\"\n",
              "            title=\"Generate code using this dataframe.\"\n",
              "            style=\"display:none;\">\n",
              "\n",
              "  <svg xmlns=\"http://www.w3.org/2000/svg\" height=\"24px\"viewBox=\"0 0 24 24\"\n",
              "       width=\"24px\">\n",
              "    <path d=\"M7,19H8.4L18.45,9,17,7.55,7,17.6ZM5,21V16.75L18.45,3.32a2,2,0,0,1,2.83,0l1.4,1.43a1.91,1.91,0,0,1,.58,1.4,1.91,1.91,0,0,1-.58,1.4L9.25,21ZM18.45,9,17,7.55Zm-12,3A5.31,5.31,0,0,0,4.9,8.1,5.31,5.31,0,0,0,1,6.5,5.31,5.31,0,0,0,4.9,4.9,5.31,5.31,0,0,0,6.5,1,5.31,5.31,0,0,0,8.1,4.9,5.31,5.31,0,0,0,12,6.5,5.46,5.46,0,0,0,6.5,12Z\"/>\n",
              "  </svg>\n",
              "    </button>\n",
              "    <script>\n",
              "      (() => {\n",
              "      const buttonEl =\n",
              "        document.querySelector('#id_eeaaafff-65c8-4829-9b21-a3d1633dcead button.colab-df-generate');\n",
              "      buttonEl.style.display =\n",
              "        google.colab.kernel.accessAllowed ? 'block' : 'none';\n",
              "\n",
              "      buttonEl.onclick = () => {\n",
              "        google.colab.notebook.generateWithVariable('df_Curly');\n",
              "      }\n",
              "      })();\n",
              "    </script>\n",
              "  </div>\n",
              "\n",
              "    </div>\n",
              "  </div>\n"
            ],
            "application/vnd.google.colaboratory.intrinsic+json": {
              "type": "dataframe",
              "variable_name": "df_Curly"
            }
          },
          "metadata": {},
          "execution_count": 22
        }
      ],
      "source": [
        "df_Curly"
      ]
    },
    {
      "cell_type": "code",
      "execution_count": 23,
      "id": "6ad493dd-5b01-474c-a9b7-d75246904515",
      "metadata": {
        "colab": {
          "base_uri": "https://localhost:8080/"
        },
        "id": "6ad493dd-5b01-474c-a9b7-d75246904515",
        "outputId": "bd2efddf-214f-408e-feba-a601f4df2205"
      },
      "outputs": [
        {
          "output_type": "execute_result",
          "data": {
            "text/plain": [
              "np.float64(510.1163499025341)"
            ]
          },
          "metadata": {},
          "execution_count": 23
        }
      ],
      "source": [
        "# Estás sacando el promedio de puntos de todos los jugadores de la tabla\n",
        "\n",
        "prom_PTS = df_nba_sqlalchemy['PTS'].mean()\n",
        "prom_PTS"
      ]
    }
  ],
  "metadata": {
    "kernelspec": {
      "display_name": "Python 3 (ipykernel)",
      "language": "python",
      "name": "python3"
    },
    "language_info": {
      "codemirror_mode": {
        "name": "ipython",
        "version": 3
      },
      "file_extension": ".py",
      "mimetype": "text/x-python",
      "name": "python",
      "nbconvert_exporter": "python",
      "pygments_lexer": "ipython3",
      "version": "3.12.7"
    },
    "colab": {
      "provenance": []
    }
  },
  "nbformat": 4,
  "nbformat_minor": 5
}